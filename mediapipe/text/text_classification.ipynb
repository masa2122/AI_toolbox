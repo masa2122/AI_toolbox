{
 "cells": [
  {
   "cell_type": "markdown",
   "metadata": {},
   "source": [
    "# Text classification\n",
    "\n",
    "https://developers.google.com/mediapipe/solutions/text/text_classifier"
   ]
  },
  {
   "cell_type": "code",
   "execution_count": 8,
   "metadata": {},
   "outputs": [],
   "source": [
    "!wget -O ./models/classifier.tflite -q https://storage.googleapis.com/mediapipe-models/text_classifier/bert_classifier/float32/1/bert_classifier.tflite"
   ]
  },
  {
   "cell_type": "code",
   "execution_count": 5,
   "metadata": {},
   "outputs": [],
   "source": [
    "model_path = './models/classifier.tflite'"
   ]
  },
  {
   "cell_type": "code",
   "execution_count": 6,
   "metadata": {},
   "outputs": [],
   "source": [
    "INPUT_TEXT = \"I'm looking forward to what will come next.\""
   ]
  },
  {
   "cell_type": "code",
   "execution_count": 9,
   "metadata": {},
   "outputs": [
    {
     "name": "stdout",
     "output_type": "stream",
     "text": [
      "positive (0.99)\n"
     ]
    },
    {
     "name": "stderr",
     "output_type": "stream",
     "text": [
      "INFO: Created TensorFlow Lite XNNPACK delegate for CPU.\n"
     ]
    }
   ],
   "source": [
    "# STEP 1: Import the necessary modules.\n",
    "from mediapipe.tasks import python\n",
    "from mediapipe.tasks.python import text\n",
    "\n",
    "# STEP 2: Create an TextClassifier object.\n",
    "base_options = python.BaseOptions(model_asset_path=model_path)\n",
    "options = text.TextClassifierOptions(base_options=base_options)\n",
    "classifier = text.TextClassifier.create_from_options(options)\n",
    "\n",
    "# STEP 3: Classify the input text.\n",
    "classification_result = classifier.classify(INPUT_TEXT)\n",
    "\n",
    "# STEP 4: Process the classification result. In this case, print out the most likely category.\n",
    "top_category = classification_result.classifications[0].categories[0]\n",
    "print(f'{top_category.category_name} ({top_category.score:.2f})')"
   ]
  }
 ],
 "metadata": {
  "kernelspec": {
   "display_name": "ai-test",
   "language": "python",
   "name": "python3"
  },
  "language_info": {
   "codemirror_mode": {
    "name": "ipython",
    "version": 3
   },
   "file_extension": ".py",
   "mimetype": "text/x-python",
   "name": "python",
   "nbconvert_exporter": "python",
   "pygments_lexer": "ipython3",
   "version": "3.10.14"
  }
 },
 "nbformat": 4,
 "nbformat_minor": 2
}
