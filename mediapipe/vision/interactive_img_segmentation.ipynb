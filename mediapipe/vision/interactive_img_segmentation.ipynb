{
 "cells": [
  {
   "cell_type": "markdown",
   "metadata": {},
   "source": [
    "# interactive segmentation\n",
    "\n",
    "https://developers.google.com/mediapipe/solutions/vision/interactive_segmenter"
   ]
  },
  {
   "cell_type": "code",
   "execution_count": 1,
   "metadata": {},
   "outputs": [],
   "source": [
    "# !wget -O ./models/model.tflite -q https://storage.googleapis.com/mediapipe-models/interactive_segmenter/magic_touch/float32/1/magic_touch.tflite"
   ]
  },
  {
   "cell_type": "code",
   "execution_count": 2,
   "metadata": {},
   "outputs": [],
   "source": [
    "import cv2\n",
    "import numpy as np\n",
    "import mediapipe as mp\n",
    "\n",
    "from mediapipe.tasks import python\n",
    "from mediapipe.tasks.python import vision\n",
    "from mediapipe.tasks.python.components import containers"
   ]
  },
  {
   "cell_type": "code",
   "execution_count": 3,
   "metadata": {},
   "outputs": [],
   "source": [
    "import math\n",
    "\n",
    "def _normalized_to_pixel_coordinates(\n",
    "    normalized_x: float, normalized_y: float, image_width: int,\n",
    "    image_height: int):\n",
    "    \"\"\"Converts normalized value pair to pixel coordinates.\"\"\"\n",
    "\n",
    "    # Checks if the float value is between 0 and 1.\n",
    "    def is_valid_normalized_value(value: float) -> bool:\n",
    "        return (value > 0 or math.isclose(0, value)) and (value < 1 or\n",
    "                                                        math.isclose(1, value))\n",
    "\n",
    "    if not (is_valid_normalized_value(normalized_x) and\n",
    "            is_valid_normalized_value(normalized_y)):\n",
    "        # TODO: Draw coordinates even if it's outside of the image bounds.\n",
    "        return None\n",
    "    x_px = min(math.floor(normalized_x * image_width), image_width - 1)\n",
    "    y_px = min(math.floor(normalized_y * image_height), image_height - 1)\n",
    "    return x_px, y_px\n",
    "\n"
   ]
  },
  {
   "cell_type": "code",
   "execution_count": 4,
   "metadata": {},
   "outputs": [],
   "source": [
    "BG_COLOR = (192, 192, 192) # gray\n",
    "MASK_COLOR = (255, 255, 255) # white\n",
    "x = 0.68\n",
    "y = 0.68\n",
    "\n",
    "RegionOfInterest = vision.InteractiveSegmenterRegionOfInterest\n",
    "NormalizedKeypoint = containers.keypoint.NormalizedKeypoint\n",
    "\n",
    "model_path = './models/model.tflite'\n",
    "# Create the options that will be used for InteractiveSegmenter\n",
    "base_options = python.BaseOptions(model_asset_path=model_path)\n",
    "options = vision.ImageSegmenterOptions(base_options=base_options,\n",
    "                                        output_category_mask=True)\n",
    "\n",
    "IMAGE_FILENAMES = ['./../../../../test_img/f3978ebc-9030-49e7-aa5e-4a370a955e1b.jpg',\n",
    "                    './../../../../test_img/download.jpg']"
   ]
  },
  {
   "cell_type": "code",
   "execution_count": 6,
   "metadata": {},
   "outputs": [
    {
     "name": "stdout",
     "output_type": "stream",
     "text": [
      "Segmentation mask of ./../../../../test_img/f3978ebc-9030-49e7-aa5e-4a370a955e1b.jpg:\n",
      "Segmentation mask of ./../../../../test_img/download.jpg:\n"
     ]
    }
   ],
   "source": [
    "with vision.InteractiveSegmenter.create_from_options(options) as segmenter:\n",
    "    for image_file_name in IMAGE_FILENAMES:\n",
    "        # ロード\n",
    "        image = mp.Image.create_from_file(image_file_name)\n",
    "        # 予測\n",
    "        roi = RegionOfInterest(format=RegionOfInterest.Format.KEYPOINT,\n",
    "                            keypoint=NormalizedKeypoint(x, y))\n",
    "        segmentation_result = segmenter.segment(image, roi)\n",
    "        category_mask = segmentation_result.category_mask\n",
    "        \n",
    "        # マスク作成\n",
    "        image_data = image.numpy_view()\n",
    "        fg_image = np.zeros(image_data.shape, dtype=np.uint8)\n",
    "        fg_image[:] = MASK_COLOR\n",
    "        bg_image = np.zeros(image_data.shape, dtype=np.uint8)\n",
    "        bg_image[:] = BG_COLOR\n",
    "        # 適用\n",
    "        condition = np.stack((category_mask.numpy_view(),) * 3, axis=-1) > 0.1\n",
    "        output_image = np.where(condition, fg_image, bg_image)\n",
    "        \n",
    "        # Draw a white dot with black border to denote the point of interest\n",
    "        thickness, radius = 6, -1\n",
    "        keypoint_px = _normalized_to_pixel_coordinates(x, y, image.width, image.height)\n",
    "        cv2.circle(output_image, keypoint_px, thickness + 5, (0, 0, 0), radius)\n",
    "        cv2.circle(output_image, keypoint_px, thickness, (255, 255, 255), radius)\n",
    "\n",
    "        print(f'Segmentation mask of {image_file_name}:')\n",
    "        cv2.imshow(image_file_name, output_image)\n",
    "        cv2.waitKey(3000)\n",
    "cv2.destroyAllWindows()"
   ]
  },
  {
   "cell_type": "markdown",
   "metadata": {},
   "source": [
    "### 対象物以外のモザイクはsegmentationと同じ"
   ]
  },
  {
   "cell_type": "markdown",
   "metadata": {},
   "source": [
    "## 対象を囲む"
   ]
  },
  {
   "cell_type": "code",
   "execution_count": null,
   "metadata": {},
   "outputs": [],
   "source": [
    "x = 0.68\n",
    "y = 0.68\n",
    "\n",
    "RegionOfInterest = vision.InteractiveSegmenterRegionOfInterest\n",
    "NormalizedKeypoint = containers.keypoint.NormalizedKeypoint\n",
    "\n",
    "model_path = './models/model.tflite'\n",
    "# Create the options that will be used for InteractiveSegmenter\n",
    "base_options = python.BaseOptions(model_asset_path=model_path)\n",
    "options = vision.ImageSegmenterOptions(base_options=base_options,\n",
    "                                        output_category_mask=True)\n",
    "\n",
    "IMAGE_FILENAMES = ['./../../../../test_img/f3978ebc-9030-49e7-aa5e-4a370a955e1b.jpg',\n",
    "                    './../../../../test_img/download.jpg']"
   ]
  },
  {
   "cell_type": "code",
   "execution_count": 8,
   "metadata": {},
   "outputs": [
    {
     "name": "stdout",
     "output_type": "stream",
     "text": [
      "./../../../../test_img/f3978ebc-9030-49e7-aa5e-4a370a955e1b.jpg:\n",
      "./../../../../test_img/download.jpg:\n"
     ]
    }
   ],
   "source": [
    "OVERLAY_COLOR = (100, 100, 0)\n",
    "with python.vision.InteractiveSegmenter.create_from_options(options) as segmenter:\n",
    "    for image_file_name in IMAGE_FILENAMES:\n",
    "        image = mp.Image.create_from_file(image_file_name)\n",
    "\n",
    "        roi = RegionOfInterest(format=RegionOfInterest.Format.KEYPOINT,\n",
    "                            keypoint=NormalizedKeypoint(x, y))\n",
    "        segmentation_result = segmenter.segment(image, roi)\n",
    "        category_mask = segmentation_result.category_mask\n",
    "\n",
    "        image_data = cv2.cvtColor(image.numpy_view(), cv2.COLOR_BGR2RGB)\n",
    "\n",
    "        overlay_image = np.zeros(image_data.shape, dtype=np.uint8)\n",
    "        overlay_image[:] = OVERLAY_COLOR\n",
    "\n",
    "        alpha = np.stack((category_mask.numpy_view(),) * 3, axis=-1) > 0.1\n",
    "        # 透明度、塗りつぶし（boolをfloatにしてTrue=1,False=0にして0.7を書ける)\n",
    "        alpha = alpha.astype(float) * 0.7\n",
    "\n",
    "        # 透明度を配慮した合成画像になる\n",
    "        output_image = image_data * (1 - alpha) + overlay_image * alpha\n",
    "        output_image = output_image.astype(np.uint8)\n",
    "\n",
    "        # 点の描画\n",
    "        thickness, radius = 6, -1\n",
    "        keypoint_px = _normalized_to_pixel_coordinates(x, y, image.width, image.height)\n",
    "        cv2.circle(output_image, keypoint_px, thickness + 5, (0, 0, 0), radius)\n",
    "        cv2.circle(output_image, keypoint_px, thickness, (255, 255, 255), radius)\n",
    "\n",
    "        print(f'{image_file_name}:')\n",
    "        cv2.imshow(image_file_name, output_image)\n",
    "        cv2.waitKey(3000)\n",
    "    cv2.destroyAllWindows()"
   ]
  }
 ],
 "metadata": {
  "kernelspec": {
   "display_name": "ai-test",
   "language": "python",
   "name": "python3"
  },
  "language_info": {
   "codemirror_mode": {
    "name": "ipython",
    "version": 3
   },
   "file_extension": ".py",
   "mimetype": "text/x-python",
   "name": "python",
   "nbconvert_exporter": "python",
   "pygments_lexer": "ipython3",
   "version": "3.10.14"
  }
 },
 "nbformat": 4,
 "nbformat_minor": 2
}
