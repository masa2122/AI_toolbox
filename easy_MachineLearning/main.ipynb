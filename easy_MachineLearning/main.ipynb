{
 "cells": [
  {
   "cell_type": "markdown",
   "metadata": {},
   "source": [
    "# irisデータを使用して行う"
   ]
  },
  {
   "cell_type": "code",
   "execution_count": 7,
   "metadata": {},
   "outputs": [],
   "source": [
    "import numpy as np\n",
    "import pandas as pd\n",
    "import matplotlib.pyplot as plt"
   ]
  },
  {
   "cell_type": "code",
   "execution_count": 8,
   "metadata": {},
   "outputs": [],
   "source": [
    "# dataの読み込み\n",
    "from sklearn.datasets import load_iris\n",
    "\n",
    "X, y = load_iris(as_frame=True, return_X_y=True)"
   ]
  },
  {
   "cell_type": "code",
   "execution_count": 9,
   "metadata": {},
   "outputs": [
    {
     "data": {
      "text/html": [
       "<div>\n",
       "<style scoped>\n",
       "    .dataframe tbody tr th:only-of-type {\n",
       "        vertical-align: middle;\n",
       "    }\n",
       "\n",
       "    .dataframe tbody tr th {\n",
       "        vertical-align: top;\n",
       "    }\n",
       "\n",
       "    .dataframe thead th {\n",
       "        text-align: right;\n",
       "    }\n",
       "</style>\n",
       "<table border=\"1\" class=\"dataframe\">\n",
       "  <thead>\n",
       "    <tr style=\"text-align: right;\">\n",
       "      <th></th>\n",
       "      <th>sepal length (cm)</th>\n",
       "      <th>sepal width (cm)</th>\n",
       "      <th>petal length (cm)</th>\n",
       "      <th>petal width (cm)</th>\n",
       "    </tr>\n",
       "  </thead>\n",
       "  <tbody>\n",
       "    <tr>\n",
       "      <th>114</th>\n",
       "      <td>-0.052506</td>\n",
       "      <td>-0.592373</td>\n",
       "      <td>3.0</td>\n",
       "      <td>4.0</td>\n",
       "    </tr>\n",
       "    <tr>\n",
       "      <th>62</th>\n",
       "      <td>0.189830</td>\n",
       "      <td>-1.973554</td>\n",
       "      <td>2.0</td>\n",
       "      <td>1.0</td>\n",
       "    </tr>\n",
       "    <tr>\n",
       "      <th>33</th>\n",
       "      <td>-0.416010</td>\n",
       "      <td>2.630382</td>\n",
       "      <td>0.0</td>\n",
       "      <td>1.0</td>\n",
       "    </tr>\n",
       "    <tr>\n",
       "      <th>107</th>\n",
       "      <td>1.765012</td>\n",
       "      <td>-0.362176</td>\n",
       "      <td>4.0</td>\n",
       "      <td>3.0</td>\n",
       "    </tr>\n",
       "    <tr>\n",
       "      <th>7</th>\n",
       "      <td>-1.021849</td>\n",
       "      <td>0.788808</td>\n",
       "      <td>1.0</td>\n",
       "      <td>1.0</td>\n",
       "    </tr>\n",
       "  </tbody>\n",
       "</table>\n",
       "</div>"
      ],
      "text/plain": [
       "     sepal length (cm)  sepal width (cm)  petal length (cm)  petal width (cm)\n",
       "114          -0.052506         -0.592373                3.0               4.0\n",
       "62            0.189830         -1.973554                2.0               1.0\n",
       "33           -0.416010          2.630382                0.0               1.0\n",
       "107           1.765012         -0.362176                4.0               3.0\n",
       "7            -1.021849          0.788808                1.0               1.0"
      ]
     },
     "execution_count": 9,
     "metadata": {},
     "output_type": "execute_result"
    }
   ],
   "source": [
    "from sklearn.preprocessing import StandardScaler, KBinsDiscretizer\n",
    "from sklearn.compose import ColumnTransformer\n",
    "\n",
    "# Column Transformerを使用してデータの前処理（列ごとに異なる変換ができル）\n",
    "sepal_cols = [\"sepal length (cm)\", \"sepal width (cm)\"]\n",
    "petal_cols = [\"petal length (cm)\", \"petal width (cm)\"]\n",
    "\n",
    "# 設定（verbose_feature_names_out　大切）\n",
    "preprocessor = ColumnTransformer(\n",
    "    [\n",
    "        (\"scaler\", StandardScaler(), sepal_cols),\n",
    "        (\"kbin\", KBinsDiscretizer(encode=\"ordinal\"), petal_cols),\n",
    "    ],\n",
    "    verbose_feature_names_out=False,\n",
    ").set_output(transform=\"pandas\")\n",
    "\n",
    "# Xを変換\n",
    "X_out = preprocessor.fit_transform(X)\n",
    "X_out.sample(n=5, random_state=0)"
   ]
  },
  {
   "cell_type": "code",
   "execution_count": 10,
   "metadata": {},
   "outputs": [],
   "source": [
    "# データの分割\n",
    "from sklearn.model_selection import train_test_split\n",
    "X_train, X_test, Y_train, Y_test = train_test_split(X_out, y, random_state=0)"
   ]
  },
  {
   "cell_type": "markdown",
   "metadata": {},
   "source": [
    "# KNN（k-近傍）\n",
    "最も一般的なクラスに分類する。\n",
    "\n",
    "- 次元の呪いのため、高次元データには向かない。\n",
    "- 一般的にユークリッド距離が使われている。\n",
    "- 特徴量が増えると予測が遅くなる\n",
    "- クラス分類や回帰分析に使用できる\n",
    "\n",
    "### k値の特徴\n",
    "- k値が小さいとノイズに弱い\n",
    "- 大きいと精度が下がる\n",
    "\n",
    "[パラメータ](https://qiita.com/fujin/items/128ed7188f7e7df74f2c)"
   ]
  },
  {
   "cell_type": "code",
   "execution_count": 20,
   "metadata": {},
   "outputs": [
    {
     "name": "stdout",
     "output_type": "stream",
     "text": [
      "[1] score: 0.95\n",
      "[2] score: 0.95\n",
      "[3] score: 0.92\n",
      "[4] score: 0.95\n",
      "[5] score: 0.95\n",
      "[6] score: 0.97\n",
      "[7] score: 0.95\n",
      "[8] score: 0.95\n",
      "[9] score: 0.92\n",
      "[10] score: 0.92\n",
      "[11] score: 0.95\n",
      "[12] score: 0.95\n",
      "[13] score: 0.95\n",
      "[14] score: 0.95\n",
      "[15] score: 0.95\n",
      "[16] score: 0.95\n",
      "[17] score: 0.95\n",
      "[18] score: 0.95\n",
      "[19] score: 0.95\n",
      "[20] score: 0.92\n",
      "[21] score: 0.92\n",
      "[22] score: 0.92\n",
      "[23] score: 0.92\n",
      "[24] score: 0.92\n",
      "[25] score: 0.92\n",
      "[26] score: 0.92\n",
      "[27] score: 0.92\n",
      "[28] score: 0.92\n",
      "[29] score: 0.92\n",
      "[30] score: 0.92\n"
     ]
    },
    {
     "data": {
      "text/plain": [
       "[<matplotlib.lines.Line2D at 0x16b2947d0>]"
      ]
     },
     "execution_count": 20,
     "metadata": {},
     "output_type": "execute_result"
    },
    {
     "data": {
      "image/png": "[encoded data removed]",
      "text/plain": [
       "<Figure size 640x480 with 1 Axes>"
      ]
     },
     "metadata": {},
     "output_type": "display_data"
    }
   ],
   "source": [
    "from sklearn.neighbors import KNeighborsClassifier\n",
    "'''\n",
    "パラメーター :\n",
    "n_neightbors = 予測に使う数(default = 5)\n",
    "weights = 予測に使う重み(default = \"uniform\")\n",
    "    \"uniform\" = 均一な重み\n",
    "    \"distance\" = 距離に応じた重み\n",
    "algorithm = 予測のためのアルゴリズム(default = \"auto\")\n",
    "    \"ball_tree\" = BallTreeアルゴリズム\n",
    "    \"kd_tree\" = KD＿Treeアルゴリズム\n",
    "    \"brute\" = 総当たり検索\n",
    "    \"auto\" = 最適なアルゴリズムを自動で選択\n",
    "leaf_size = KD Tree, Ball Treeのリーフサイズ\n",
    "metric = 距離の測定方法(default=\"minkowski\")\n",
    "p = Minkowski metricにおけるPower Parameter\n",
    "n_jobs = 利用するCPU数の設定\n",
    "'''\n",
    "\n",
    "list_nn = []\n",
    "list_score = []\n",
    "\n",
    "for k in range(1, 31):\n",
    "    knn = KNeighborsClassifier(n_neighbors=k)\n",
    "    # 訓練\n",
    "    knn.fit(X_train, Y_train)\n",
    "    \n",
    "    # 予測\n",
    "    Y_pred = knn.predict(X_test)\n",
    "    \n",
    "    # 評価 R^2 誤差の平方和\n",
    "    score = knn.score(X_test, Y_test)\n",
    "    print(\"[%d] score: {:.2f}\".format(score) % k)\n",
    "    \n",
    "    list_nn.append(k)\n",
    "    list_score.append(score)\n",
    "    \n",
    "# 表示\n",
    "plt.xlabel(\"n_neighbors\")\n",
    "plt.ylabel(\"score\")\n",
    "plt.plot(list_nn, list_score)"
   ]
  },
  {
   "cell_type": "markdown",
   "metadata": {},
   "source": [
    "# Decision Tree(決定木)\n",
    "分類木と回帰木を組み合わせたもので、ツリーによってデータを分析する。\n",
    "\n",
    "\n",
    "[パラメータ](https://data-analysis-stats.jp/python/%E6%B1%BA%E5%AE%9A%E6%9C%A8%E5%88%86%E6%9E%90%E3%81%AE%E3%83%91%E3%83%A9%E3%83%A1%E3%83%BC%E3%82%BF%E8%A7%A3%E8%AA%AC/)"
   ]
  },
  {
   "cell_type": "code",
   "execution_count": 21,
   "metadata": {},
   "outputs": [
    {
     "name": "stdout",
     "output_type": "stream",
     "text": [
      "[30] score: 0.92\n"
     ]
    }
   ],
   "source": [
    "from sklearn.tree import DecisionTreeClassifier\n",
    "'''\n",
    "パラメーター：\n",
    "criterion = データの分割方法(default = \"gini\")\n",
    "    \"gini\" = 連続データが得意、誤分類を最小化\n",
    "    \"entropy\" = カテゴリーデータが得意、探索的に基準値を探している\n",
    "splitter = 各ノードで分割を選択するために使用される戦略(default=\"best\")\n",
    "    \"best\" = 最適な分割を選択、やや過学習になります。また計算時間が少なくなります。\n",
    "    \"random\" = 最良のランダム分割を選択\n",
    "max_depth = ツリーの最大深度、過学習を防ぐための制御(default=None)\n",
    "min_samples_split = ノードを分割するために必要な最小サンプルサイズ。整数を指定した場合，その数，小数を指定した場合，全サンプルサイズに対する割合になります。0.01ぐらいを目安とし、過学習の場合は値を大きくしていきます。(default=2)\n",
    "min_samples_leaf = 整数は葉を構成するのに必要な最小限のサンプル。少数は元々のサンプルサイズに占める割合。小さいと過学習になり気味。(default=1)\n",
    "min_weight_fraction_leaf = リーフノードに必要な重みの総和の最小加重割合。データが不均衡の場合に使う(default=0.)\n",
    "max_features = 適切な分割をするために考慮する特徴量の数を指定。整数を指定した場合，その個数，小数の場合全特徴量に対する割合個，auto を指定した場合，特徴量数のルート個，log2 を指定した場合，log2(特徴量数) 個になります。最初のわからない時は、Noneですが、過学習の場合は、減らします。 (default=None)\n",
    "random_state = intの場合ジェネレーターによって使用されるシード(default=None)\n",
    "max_leaf_nodes = 生成される決定木における最大の葉の数。Noneの場合、リーフノードの数は無制限です。過学習の場合は小さく。 (default=None)\n",
    "min_impurity_split = 木の成長における早期停止の閾値。(default=0.)\n",
    "class_weight = 各クラスに重みを設定できる。(default=None)\n",
    "presort = データを事前に並び替えることで計算の高速化をする。データが小さいと高速化できる。(default=False)\n",
    "'''\n",
    "tree_model = DecisionTreeClassifier(criterion='gini', max_depth=4, random_state=1)\n",
    "tree_model.fit(X_train, Y_train)\n",
    "\n",
    "pre = tree_model.predict(X_test)\n",
    "\n",
    "score = knn.score(X_test, Y_test)\n",
    "print(\"[%d] score: {:.2f}\".format(score) % k)"
   ]
  },
  {
   "cell_type": "markdown",
   "metadata": {},
   "source": [
    "# SVM\n",
    "\n",
    "\n",
    "2つのクラスのデータ群を分割するような境界線や超平面を設定することで分類や回帰を行う。\n",
    "\n",
    "\n",
    "最も近いデータのマージが大きくなるように設定される\n",
    "\n",
    "\n",
    "[パラメータ](https://qiita.com/arata-honda/items/8d08f31aa7d7cbae4c91)"
   ]
  },
  {
   "cell_type": "code",
   "execution_count": 22,
   "metadata": {},
   "outputs": [
    {
     "name": "stdout",
     "output_type": "stream",
     "text": [
      "[30] score: 0.97\n"
     ]
    }
   ],
   "source": [
    "from sklearn.svm import SVC\n",
    "'''\n",
    "パラメータ：\n",
    "penalty = 罰則項(default=L2)\n",
    "    l1 = L1正則化\n",
    "    l2 = L2正則化\n",
    "loss = 評価関数(default=hinge)\n",
    "    hinge = ヒンジ損失\n",
    "    squared_hinge = 2乗ヒンジ\n",
    "dual = 双対問題を解くか(default=true)\n",
    "tol = アルゴリズムの終了条件(default=1e-4)\n",
    "C = ソフトマージンの厳しさ\n",
    "\n",
    "'''\n",
    "svm = SVC(kernel='linear', C=1.0, random_state=1)\n",
    "svm.fit(X_train, Y_train)\n",
    "\n",
    "pre = svm.predict(X_test)\n",
    "\n",
    "score = svm.score(X_test, Y_test)\n",
    "print(\"[%d] score: {:.2f}\".format(score) % k)"
   ]
  },
  {
   "cell_type": "markdown",
   "metadata": {},
   "source": [
    "# Logistic Regression\n",
    "\n",
    "\n",
    "データに対して重みとバイアスをかけて計算する。\n",
    "\n",
    "\n",
    "線形分離可能な場合に高い性能を発揮する。\n",
    "\n",
    "\n",
    "[パラメータ](https://datawokagaku.com/logstic_reg_python/)"
   ]
  },
  {
   "cell_type": "code",
   "execution_count": 23,
   "metadata": {},
   "outputs": [
    {
     "name": "stdout",
     "output_type": "stream",
     "text": [
      "[30] score: 0.97\n"
     ]
    }
   ],
   "source": [
    "from sklearn.linear_model import LogisticRegression\n",
    "'''\n",
    "パラメータ：\n",
    "penalty = 正則化の方法(default=l2)\n",
    "    l1 = L1正則化\n",
    "    l2 = L2正則化\n",
    "tol = アルゴリズムの終了条件(1e-4)\n",
    "C = 正則化の強度(default=1.0)\n",
    "class_weight = クラスの重み。偏りのあるデータに対して使う(default=None)\n",
    "solver = パラメータの探索方法\n",
    "    newton-cg = 二次微分を使って最適化。計算量多い\n",
    "    lbfgs = 二次微分を近似するBFGS法のlimited-memory版。限られたメモリで実行できる。小さいデータで精度が良い。\n",
    "    liblinear = 特徴量が高次元のときに推奨\n",
    "    sag = データや特徴量が大きいと他のアルゴリズムよりも早く収束する\n",
    "    saga = SGGの仲間でL1ノルムの正則化をかけたバージョン\n",
    "warm_start = 再学習するときにモデルを初期化セずに、更に学習したモデルに再学習できる。\n",
    "multi_class = クラス数の選択(default=auto)\n",
    "'''\n",
    "lr = LogisticRegression(C=100.0, random_state=1, solver='lbfgs', multi_class='ovr')\n",
    "lr.fit(X_train, Y_train)\n",
    "\n",
    "pre = lr.predict(X_test)\n",
    "\n",
    "score = lr.score(X_test, Y_test)\n",
    "print(\"[%d] score: {:.2f}\".format(score) % k)"
   ]
  },
  {
   "cell_type": "markdown",
   "metadata": {},
   "source": [
    "# Kernel SVM\n",
    "\n",
    "gammaの値で複雑さが変わる。小さいとなめらかで、大きとモデルが複雑な形に対応される\n",
    "\n",
    "\n",
    "カーネルを使用して非線形に対応"
   ]
  },
  {
   "cell_type": "code",
   "execution_count": 24,
   "metadata": {},
   "outputs": [
    {
     "name": "stdout",
     "output_type": "stream",
     "text": [
      "[30] score: 0.95\n"
     ]
    }
   ],
   "source": [
    "from sklearn.svm import SVC\n",
    "\n",
    "\n",
    "svm = SVC(kernel='rbf', random_state=1, gamma=0.2, C=1.0)\n",
    "svm.fit(X_train, Y_train)\n",
    "\n",
    "pre = svm.predict(X_test)\n",
    "\n",
    "score = svm.score(X_test, Y_test)\n",
    "print(\"[%d] score: {:.2f}\".format(score) % k)"
   ]
  },
  {
   "cell_type": "markdown",
   "metadata": {},
   "source": [
    "# Kernel SVM 2"
   ]
  },
  {
   "cell_type": "code",
   "execution_count": 25,
   "metadata": {},
   "outputs": [
    {
     "name": "stdout",
     "output_type": "stream",
     "text": [
      "[30] score: 0.39\n"
     ]
    }
   ],
   "source": [
    "svm = SVC(kernel='rbf', random_state=1, gamma=100.0, C=1.0)\n",
    "svm.fit(X_train, Y_train)\n",
    "\n",
    "pre = svm.predict(X_test)\n",
    "\n",
    "score = svm.score(X_test, Y_test)\n",
    "print(\"[%d] score: {:.2f}\".format(score) % k)"
   ]
  },
  {
   "cell_type": "markdown",
   "metadata": {},
   "source": [
    "# Random Forest\n",
    "決定木とアンサンブル学習の組み合わせ。\n",
    "\n",
    "\n",
    "決定木よりも高精度で、これよりも多層化したものがディープフォレストと呼ばれている。\n",
    "- 決定木：YES or NOなどの質問をして1つずつ答えていくことで正解にたどり着く\n",
    "- アンサンブル：複数のアルゴリズムを組み合わせて精度を高める技術\n",
    "- バギング：複製されたデータセットごとに学習器を生成し、それを使って予測する。分類は多数決、回帰は平均\n",
    "- ブースティング：複数のモデルを使って学習を直列的に進める手法。前のモデルの結果を参考に次のモデルを構築する。バギングよりも時間が掛かるが精度がよい。\n",
    "\n",
    "[パラメータ](https://qiita.com/hara_tatsu/items/581db994ec8866afe8f8)"
   ]
  },
  {
   "cell_type": "code",
   "execution_count": 27,
   "metadata": {},
   "outputs": [
    {
     "name": "stdout",
     "output_type": "stream",
     "text": [
      "[30] score: 0.95\n"
     ]
    }
   ],
   "source": [
    "from sklearn.ensemble import RandomForestClassifier\n",
    "'''\n",
    "パラメータ：\n",
    "n_estimator = 決定木の本数(default=100)\n",
    "criterion = 決定機モデルにデータを分割するための指標(default='gini')\n",
    "    gini = ジニ係数\n",
    "    entropy = 交差エントロピー\n",
    "max_depth = それぞれの決定木の深さ。過学習を防ぐ。小さいと精度は低い、大きいと精度は高いが過学習になりがち(default=None)\n",
    "min_samples_split = ノードを分割するために必要となってくるサンプル数。サンプル数以下になると分割が止まる。小さすぎるとモデルが過剰適合(default=None)\n",
    "max_leaf_nodes = 決定木モデルの葉の数(default=None)\n",
    "min_samples_leaf = 決定木の分割後に葉に必要となってくるサンプル数(default=1)\n",
    "random_state = データを分割する際に発生するシード値の固定\n",
    "n_jobs = 利用するコアの数 -1で利用できるすべてになる\n",
    "'''\n",
    "forest = RandomForestClassifier(criterion='gini',\n",
    "                                n_estimators=25, \n",
    "                                random_state=1,\n",
    "                                n_jobs=2)\n",
    "forest.fit(X_train, Y_train)\n",
    "\n",
    "pre = forest.predict(X_test)\n",
    "\n",
    "score = forest.score(X_test, Y_test)\n",
    "print(\"[%d] score: {:.2f}\".format(score) % k)"
   ]
  },
  {
   "cell_type": "markdown",
   "metadata": {},
   "source": [
    "# 参考\n",
    "\n",
    "https://github.com/RuoAndo/ai-sec/blob/main/2023/2023-11-29-01.ipynb\n"
   ]
  }
 ],
 "metadata": {
  "kernelspec": {
   "display_name": "test",
   "language": "python",
   "name": "python3"
  },
  "language_info": {
   "codemirror_mode": {
    "name": "ipython",
    "version": 3
   },
   "file_extension": ".py",
   "mimetype": "text/x-python",
   "name": "python",
   "nbconvert_exporter": "python",
   "pygments_lexer": "ipython3",
   "version": "3.12.0"
  }
 },
 "nbformat": 4,
 "nbformat_minor": 2
}
