{
 "cells": [
  {
   "cell_type": "markdown",
   "metadata": {},
   "source": [
    "# Text embedding\n",
    "\n",
    "https://developers.google.com/mediapipe/solutions/text/text_embedder"
   ]
  },
  {
   "cell_type": "code",
   "execution_count": 1,
   "metadata": {},
   "outputs": [],
   "source": [
    "# !wget -O ./models/embedder.tflite -q https://storage.googleapis.com/mediapipe-models/text_embedder/bert_embedder/float32/1/bert_embedder.tflite"
   ]
  },
  {
   "cell_type": "code",
   "execution_count": 3,
   "metadata": {},
   "outputs": [],
   "source": [
    "model_path = './models/embedder.tflite'"
   ]
  },
  {
   "cell_type": "code",
   "execution_count": 5,
   "metadata": {},
   "outputs": [
    {
     "name": "stderr",
     "output_type": "stream",
     "text": [
      "INFO: Created TensorFlow Lite XNNPACK delegate for CPU.\n"
     ]
    },
    {
     "name": "stdout",
     "output_type": "stream",
     "text": [
      "0.9373670762694931\n"
     ]
    }
   ],
   "source": [
    "from mediapipe.tasks import python\n",
    "from mediapipe.tasks.python import text\n",
    "\n",
    "base_options = python.BaseOptions(model_asset_path=model_path)\n",
    "\n",
    "l2_normalize = True\n",
    "quantize = False\n",
    "\n",
    "options = text.TextEmbedderOptions(\n",
    "    base_options=base_options, l2_normalize=l2_normalize, quantize=quantize)\n",
    "\n",
    "with text.TextEmbedder.create_from_options(options) as embedder:\n",
    "    first_text = \"I'm feeling so good\"\n",
    "    second_text = \"I'm okay I guess\"\n",
    "\n",
    "    # Convert both sets of text to embeddings\n",
    "    first_embedding_result = embedder.embed(first_text)\n",
    "    second_embedding_result = embedder.embed(second_text)\n",
    "\n",
    "    # Calculate and print similarity\n",
    "    similarity = text.TextEmbedder.cosine_similarity(\n",
    "        first_embedding_result.embeddings[0],\n",
    "        second_embedding_result.embeddings[0])\n",
    "    print(similarity)"
   ]
  }
 ],
 "metadata": {
  "kernelspec": {
   "display_name": "ai-test",
   "language": "python",
   "name": "python3"
  },
  "language_info": {
   "codemirror_mode": {
    "name": "ipython",
    "version": 3
   },
   "file_extension": ".py",
   "mimetype": "text/x-python",
   "name": "python",
   "nbconvert_exporter": "python",
   "pygments_lexer": "ipython3",
   "version": "3.10.14"
  }
 },
 "nbformat": 4,
 "nbformat_minor": 2
}
