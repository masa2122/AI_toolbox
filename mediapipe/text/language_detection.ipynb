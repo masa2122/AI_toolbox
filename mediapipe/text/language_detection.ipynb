{
 "cells": [
  {
   "cell_type": "markdown",
   "metadata": {},
   "source": [
    "# Language detection\n",
    "\n",
    "\n",
    "https://developers.google.com/mediapipe/solutions/text/language_detector"
   ]
  },
  {
   "cell_type": "code",
   "execution_count": 1,
   "metadata": {},
   "outputs": [],
   "source": [
    "!wget -O ./models/detector.tflite -q https://storage.googleapis.com/mediapipe-models/language_detector/language_detector/float32/latest/language_detector.tflite"
   ]
  },
  {
   "cell_type": "code",
   "execution_count": 2,
   "metadata": {},
   "outputs": [],
   "source": [
    "model_path = './models/detector.tflite'"
   ]
  },
  {
   "cell_type": "code",
   "execution_count": 9,
   "metadata": {},
   "outputs": [],
   "source": [
    "INPUT_TEXT = \"Il y a beaucoup de bouches qui parlent et fort peu de têtes qui pensent\""
   ]
  },
  {
   "cell_type": "code",
   "execution_count": 10,
   "metadata": {},
   "outputs": [
    {
     "name": "stdout",
     "output_type": "stream",
     "text": [
      "fr: (1.00)\n"
     ]
    }
   ],
   "source": [
    "# STEP 1: Import the necessary modules.\n",
    "from mediapipe.tasks import python\n",
    "from mediapipe.tasks.python import text\n",
    "\n",
    "# STEP 2: Create a LanguageDetector object.\n",
    "base_options = python.BaseOptions(model_asset_path=model_path)\n",
    "options = text.LanguageDetectorOptions(base_options=base_options)\n",
    "detector = text.LanguageDetector.create_from_options(options)\n",
    "\n",
    "# STEP 3: Get the language detcetion result for the input text.\n",
    "detection_result = detector.detect(INPUT_TEXT)\n",
    "\n",
    "# STEP 4: Process the detection result and print the languages detected and\n",
    "# their scores.\n",
    "\n",
    "for detection in detection_result.detections:\n",
    "  print(f'{detection.language_code}: ({detection.probability:.2f})')"
   ]
  }
 ],
 "metadata": {
  "kernelspec": {
   "display_name": "ai-test",
   "language": "python",
   "name": "python3"
  },
  "language_info": {
   "codemirror_mode": {
    "name": "ipython",
    "version": 3
   },
   "file_extension": ".py",
   "mimetype": "text/x-python",
   "name": "python",
   "nbconvert_exporter": "python",
   "pygments_lexer": "ipython3",
   "version": "3.10.14"
  }
 },
 "nbformat": 4,
 "nbformat_minor": 2
}
